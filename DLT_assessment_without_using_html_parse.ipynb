{
  "nbformat": 4,
  "nbformat_minor": 0,
  "metadata": {
    "colab": {
      "provenance": [],
      "authorship_tag": "ABX9TyOWOx1co8AzuZTdimM2pMCZ",
      "include_colab_link": true
    },
    "kernelspec": {
      "name": "python3",
      "display_name": "Python 3"
    },
    "language_info": {
      "name": "python"
    }
  },
  "cells": [
    {
      "cell_type": "markdown",
      "metadata": {
        "id": "view-in-github",
        "colab_type": "text"
      },
      "source": [
        "<a href=\"https://colab.research.google.com/github/Prajkta27/Assignment---Times.com/blob/main/DLT_assessment_without_using_html_parse.ipynb\" target=\"_parent\"><img src=\"https://colab.research.google.com/assets/colab-badge.svg\" alt=\"Open In Colab\"/></a>"
      ]
    },
    {
      "cell_type": "code",
      "execution_count": 4,
      "metadata": {
        "colab": {
          "base_uri": "https://localhost:8080/"
        },
        "id": "ATqAHQuH2oHG",
        "outputId": "3d8abb62-bf31-4016-c1d1-618f11df2cc6"
      },
      "outputs": [
        {
          "output_type": "stream",
          "name": "stdout",
          "text": [
            "[{'title': 'Breaker Sunny Choi Is Heading to Paris</h3> <span class=\"byline\"> Sean Gregory </span> </div> <div class=\"tout__list-item-block-image-overlay\"></div>', 'link': '/6960387/kate-cox-abortion-rights-interview/'}, {'title': 'How Kate Cox Became a Reluctant Face of the Abortion-Rights Movement</h3> <span class=\"byline\"> Charlotte Alter/Dallas </span> </div> <div class=\"tout__list-item-block-image-overlay\"></div>', 'link': '/collection/women-of-the-year/6692799/greta-gerwig-interview/'}, {'title': 'Greta Gerwig’s Next Big Swing</h3> <span class=\"byline\"> Sam Lansky/London </span> </div> <div class=\"tout__list-item-block-image-overlay\"></div>', 'link': '/6899782/thailand-prime-minister-srettha-thavisin-business-hub/'}, {'title': 'Thailand’s New Prime Minister Is Getting Down to Business </h3> <span class=\"byline\"> Charlie Campbell/Bangkok </span> </div> <div class=\"tout__list-item-block-image-overlay\"></div>', 'link': '/collection/time100-leadership-series/6693255/mrbeast-interview/'}, {'title': 'In the Belly of MrBeast</h3> <span class=\"byline\"> Belinda Luscombe </span> </div> <div class=\"tout__list-item-block-image-overlay\"></div>', 'link': 'https://time.com/newsletters/?source&#x3D;SI+hp+link+mid+&amp;newsletter_name&#x3D;inside_time'}]\n"
          ]
        }
      ],
      "source": [
        "import urllib.request\n",
        "\n",
        "def get_time_stories():\n",
        "    # Fetch HTML content from the Time.com website\n",
        "    url = 'https://time.com'\n",
        "    try:\n",
        "        with urllib.request.urlopen(url) as response:\n",
        "            html_content = response.read().decode('utf-8')\n",
        "    except Exception as e:\n",
        "        return \"Failed to fetch Time.com\"\n",
        "\n",
        "    # Extracting latest stories using string manipulation\n",
        "    latest_stories = []\n",
        "    start_marker = '<h3 class=\"headline\">'\n",
        "    end_marker = '</a>'\n",
        "    current_index = html_content.find(start_marker)\n",
        "    for _ in range(6):\n",
        "        if current_index == -1:\n",
        "            break\n",
        "        start_index = html_content.find('\">', current_index) + 2\n",
        "        end_index = html_content.find(end_marker, start_index)\n",
        "        title = html_content[start_index:end_index].strip()\n",
        "        title = ' '.join(title.split())  # Remove extra spaces and newline characters\n",
        "        link_start = html_content.find('href=\"', current_index) + 6\n",
        "        link_end = html_content.find('\"', link_start)\n",
        "        link = html_content[link_start:link_end]\n",
        "        latest_stories.append({\"title\": title, \"link\": link})\n",
        "        current_index = html_content.find(start_marker, end_index)\n",
        "\n",
        "    return latest_stories\n",
        "\n",
        "# Get the latest stories\n",
        "stories = get_time_stories()\n",
        "print(stories)\n"
      ]
    }
  ]
}